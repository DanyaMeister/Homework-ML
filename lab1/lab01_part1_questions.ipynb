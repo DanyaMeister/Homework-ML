{
  "cells": [
    {
      "cell_type": "markdown",
      "metadata": {
        "id": "s1KXHm6z1Z2F"
      },
      "source": [
        "*Credits: materials from this notebook belong to YSDA [Practical DL](https://github.com/yandexdataschool/Practical_DL) course. Special thanks for making them available online.*"
      ]
    },
    {
      "cell_type": "markdown",
      "metadata": {
        "id": "YNfNBmje1Z2G"
      },
      "source": [
        "# Lab assignment №1, part 1\n",
        "\n",
        "This lab assignment consists of several parts. You are supposed to make some transformations, train some models, estimate the quality of the models and explain your results.\n",
        "\n",
        "Several comments:\n",
        "* Don't hesitate to ask questions, it's a good practice.\n",
        "* No private/public sharing, please. The copied assignments will be graded with 0 points.\n",
        "* Blocks of this lab will be graded separately."
      ]
    },
    {
      "cell_type": "markdown",
      "metadata": {
        "id": "Oy1mfRXc1Z2H"
      },
      "source": [
        "## 1. Matrix differentiation"
      ]
    },
    {
      "cell_type": "markdown",
      "metadata": {
        "id": "vcbGtwZ91Z2H"
      },
      "source": [
        "Since it easy to google every task please please please try to undestand what's going on. The \"just answer\" thing will be not counted, make sure to present derivation of your solution. It is absolutely OK if you found an answer on web then just exercise in $\\LaTeX$ copying it into here."
      ]
    },
    {
      "cell_type": "markdown",
      "metadata": {
        "id": "-tR4lqkw1Z2H"
      },
      "source": [
        "Useful links:\n",
        "[1](http://www.machinelearning.ru/wiki/images/2/2a/Matrix-Gauss.pdf)\n",
        "[2](http://www.atmos.washington.edu/~dennis/MatrixCalculus.pdf)"
      ]
    },
    {
      "cell_type": "markdown",
      "metadata": {
        "id": "2kRVogpr1Z2H"
      },
      "source": [
        "## ex. 1"
      ]
    },
    {
      "cell_type": "markdown",
      "metadata": {
        "id": "ydtwEW3E1Z2H"
      },
      "source": [
        "$$  \n",
        "y = x^Tx:,  \\quad x \\in \\mathbb{R}^N\n",
        "$$"
      ]
    },
    {
      "cell_type": "markdown",
      "metadata": {
        "id": "EJjQLKLq1Z2H"
      },
      "source": [
        "$$\n",
        "\\frac{dy}{dx} =\n",
        "$$"
      ]
    },
    {
      "cell_type": "markdown",
      "source": [
        "\n",
        "$$\n",
        "Решение:\\\\Функция: \\\n",
        "y = x^T x, \\ x \\in \\mathbb{R}^N\\\\\n",
        "перепишем:\\ y = x^T x = \\sum_{i=1}^N x_i^2\\\\\n",
        "Вычислим\\ градиент:\\\\\n",
        "Поскольку \\ y \\ — скалярная\\ функция\\ вектора \\ x , нам\\ нужно\\ найти\\ градиент \\ y \\ по \\ x :\\\\\n",
        "\\frac{dy}{dx} = \\nabla_x y\\\\\n",
        "Применим\\ правило\\ матричной\\ дифференциации:\\\\\n",
        "Известно, что\\ для\\ любого\\ вектора \\ x \\ производная \\ x^T x \\ по \\ x \\ равна \\ 2x\\\\ Это\\ можно\\ получить, дифференцируя\\ каждый\\ элемент \\ x_i^2 \\ по \\ x_i\\\\\n",
        "Ответ:\\frac{dy}{dx} = 2x.\n",
        "\\\n",
        "$$ :"
      ],
      "metadata": {
        "id": "huk9MEcT5qzj"
      }
    },
    {
      "cell_type": "code",
      "execution_count": null,
      "metadata": {
        "collapsed": true,
        "jupyter": {
          "outputs_hidden": true
        },
        "id": "gKIa8lti1Z2I",
        "colab": {
          "base_uri": "https://localhost:8080/"
        },
        "outputId": "323e98d9-f8d9-4a18-e2d6-65160dbb9855"
      },
      "outputs": [
        {
          "output_type": "stream",
          "name": "stdout",
          "text": [
            "Значение функции y = x^T * x: 14\n",
            "Градиент dy/dx: [2 4 6]\n"
          ]
        }
      ],
      "source": [
        "import numpy as np\n",
        "\n",
        "# Создаем вектор x\n",
        "x = np.array([1, 2, 3])  # Пример, для трехмерного вектора\n",
        "\n",
        "# Вычисляем значение функции y = x^T * x\n",
        "y = np.dot(x, x)\n",
        "\n",
        "# Вычисляем градиент dy/dx\n",
        "dy_dx = 2 * x\n",
        "\n",
        "# Выводим результаты\n",
        "print(\"Значение функции y = x^T * x:\", y)\n",
        "print(\"Градиент dy/dx:\", dy_dx)"
      ]
    },
    {
      "cell_type": "markdown",
      "metadata": {
        "id": "Jlb2rXRa1Z2I"
      },
      "source": [
        "## ex. 2"
      ]
    },
    {
      "cell_type": "markdown",
      "metadata": {
        "id": "nkyYHzME1Z2I"
      },
      "source": [
        "$$ y = tr(AB) \\quad A,B \\in \\mathbb{R}^{N \\times N} $$"
      ]
    },
    {
      "cell_type": "markdown",
      "metadata": {
        "id": "uJnZtEXd1Z2I"
      },
      "source": [
        "$$\n",
        "\\frac{dy}{dA} =\n",
        "$$"
      ]
    },
    {
      "cell_type": "markdown",
      "source": [
        "$$ Решение:\\\\\n",
        "y = tr(AB) \\quad A,B \\in \\mathbb{R}^{N \\times N} \\\\\n",
        "— это\\ след\\ произведения\\ матриц \\ A\\ и \\ B, то\\ есть\\ сумма\\ элементов\\ на\\ главной\\ диагонали\\ матрицы\\ AB\\\\\n",
        "Используем\\ правило\\ дифференцирования\\ для\\ следа. \\\\\n",
        "Известно, что\\ для\\ матриц\\ A\\ и\\ B\\ верно\\ следующее\\ правило:\\\\\n",
        "\\frac{d \\operatorname{tr}(AB)}{dA} = B^T\\\\\n",
        "Ответ: \\frac{dy}{dA} = B^T\\\n",
        "$$"
      ],
      "metadata": {
        "id": "9IOWY-kLCORB"
      }
    },
    {
      "cell_type": "code",
      "execution_count": null,
      "metadata": {
        "collapsed": true,
        "jupyter": {
          "outputs_hidden": true
        },
        "id": "6qdVT2-s1Z2I",
        "colab": {
          "base_uri": "https://localhost:8080/"
        },
        "outputId": "7e9a14d5-544b-4e14-d033-40db2b9b0aed"
      },
      "outputs": [
        {
          "output_type": "stream",
          "name": "stdout",
          "text": [
            "Значение функции y = tr(AB): 69\n",
            "Градиент dy/dA (B^T):\n",
            "[[5 7]\n",
            " [6 8]]\n"
          ]
        }
      ],
      "source": [
        "import numpy as np\n",
        "\n",
        "# Определяем матрицы A и B\n",
        "A = np.array([[1, 2],\n",
        "              [3, 4]])  # Пример 2x2 матрицы A\n",
        "B = np.array([[5, 6],\n",
        "              [7, 8]])  # Пример 2x2 матрицы B\n",
        "\n",
        "# Вычисляем значение функции y = tr(AB)\n",
        "y = np.trace(np.dot(A, B))\n",
        "\n",
        "# Вычисляем градиент dy/dA\n",
        "dy_dA = B.T\n",
        "\n",
        "# Выводим результаты\n",
        "print(\"Значение функции y = tr(AB):\", y)\n",
        "print(\"Градиент dy/dA (B^T):\")\n",
        "print(dy_dA)"
      ]
    },
    {
      "cell_type": "markdown",
      "metadata": {
        "id": "Gr2qv2tL1Z2I"
      },
      "source": [
        "## ex. 3"
      ]
    },
    {
      "cell_type": "markdown",
      "metadata": {
        "id": "Dg5ac_LN1Z2I"
      },
      "source": [
        "$$  \n",
        "y = x^TAc , \\quad A\\in \\mathbb{R}^{N \\times N}, x\\in \\mathbb{R}^{N}, c\\in \\mathbb{R}^{N}\n",
        "$$"
      ]
    },
    {
      "cell_type": "markdown",
      "metadata": {
        "id": "gOp8sR4O1Z2J"
      },
      "source": [
        "$$\n",
        "\\frac{dy}{dx} =\n",
        "$$"
      ]
    },
    {
      "cell_type": "markdown",
      "metadata": {
        "id": "dJyeWlbm1Z2J"
      },
      "source": [
        "$$\n",
        "\\frac{dy}{dA} =\n",
        "$$"
      ]
    },
    {
      "cell_type": "markdown",
      "metadata": {
        "id": "CJMtbnbE1Z2J"
      },
      "source": [
        "Hint for the latter (one of the ways): use *ex. 2* result and the fact\n",
        "$$\n",
        "tr(ABC) = tr (CAB)\n",
        "$$"
      ]
    },
    {
      "cell_type": "markdown",
      "source": [
        "$$ Решение:\\\\\n",
        "Поскольку\\ y\\ является\\ скалярным\\ произведением\\ и\\ A\\ и\\ c\\ являются\\ константами\\ относительно\\ x, можно\\ использовать\\ правило\\ дифференцирования\\ для\\ векторов:\\\\\n",
        "\\frac{dy}{dx} = A c\\\\\n",
        "Для\\ нахождения\\ производной\\  \\frac{dy}{dA}\\  можно\\ воспользоваться\\ результатом\\ из\\ упражнения\\ 2\\ и\\ свойством\\ следа:\\\\\n",
        "y = \\operatorname{tr}(x^T A c) = \\operatorname{tr}(A c x^T)\\\\\n",
        "\\frac{dy}{dA} = c x^T\\\\\n",
        "Ответ: \\frac{dy}{dx} = A c\\\\\n",
        "\\frac{dy}{dA} = c x^T\\\\\n",
        "$$"
      ],
      "metadata": {
        "id": "0uKqBQ20gNVT"
      }
    },
    {
      "cell_type": "code",
      "execution_count": 1,
      "metadata": {
        "collapsed": true,
        "jupyter": {
          "outputs_hidden": true
        },
        "id": "jts7QHOr1Z2J",
        "colab": {
          "base_uri": "https://localhost:8080/"
        },
        "outputId": "d9f4945f-96e3-4d92-f2a3-6f73ef639449"
      },
      "outputs": [
        {
          "output_type": "stream",
          "name": "stdout",
          "text": [
            "Значение функции y = x^T A c: 61\n",
            "Производная dy/dx: [11 25]\n",
            "Производная dy/dA:\n",
            "[[3 6]\n",
            " [4 8]]\n"
          ]
        }
      ],
      "source": [
        "import numpy as np\n",
        "\n",
        "# Задаем матрицу A, вектор x и вектор c\n",
        "A = np.array([[1, 2],\n",
        "              [3, 4]])  # Пример матрицы 2x2\n",
        "x = np.array([1, 2])     # Пример вектора размерности 2\n",
        "c = np.array([3, 4])     # Пример вектора размерности 2\n",
        "\n",
        "# Вычисление функции y = x^T A c\n",
        "y = np.dot(x.T, np.dot(A, c))\n",
        "\n",
        "# Вычисляем производную dy/dx\n",
        "dy_dx = np.dot(A, c)\n",
        "\n",
        "# Вычисляем производную dy/dA\n",
        "dy_dA = np.outer(c, x)  # Результат c x^T\n",
        "\n",
        "# Выводим результаты\n",
        "print(\"Значение функции y = x^T A c:\", y)\n",
        "print(\"Производная dy/dx:\", dy_dx)\n",
        "print(\"Производная dy/dA:\")\n",
        "print(dy_dA)"
      ]
    },
    {
      "cell_type": "markdown",
      "metadata": {
        "id": "XjBtkxJM1Z2J"
      },
      "source": [
        "## ex. 4"
      ]
    },
    {
      "cell_type": "markdown",
      "metadata": {
        "id": "S76rnVzI1Z2J"
      },
      "source": [
        "Classic matrix factorization example. Given matrix $X$ you need to find $A$, $S$ to approximate $X$. This can be done by simple gradient descent iteratively alternating $A$ and $S$ updates.\n",
        "$$\n",
        "J = || X - AS ||_F^2  , \\quad A\\in \\mathbb{R}^{N \\times R} , \\quad S\\in \\mathbb{R}^{R \\times M}\n",
        "$$\n",
        "$$\n",
        "\\frac{dJ}{dS} = ?\n",
        "$$\n",
        "\n",
        "You may use one of the following approaches:"
      ]
    },
    {
      "cell_type": "markdown",
      "metadata": {
        "id": "vvWkKCdG1Z2J"
      },
      "source": [
        "#### First approach\n",
        "Using ex.2 and the fact:\n",
        "$$\n",
        "|| X ||_F^2 = tr(XX^T)\n",
        "$$\n",
        "it is easy to derive gradients (you can find it in one of the refs)."
      ]
    },
    {
      "cell_type": "markdown",
      "metadata": {
        "id": "w-VzQm3V1Z2K"
      },
      "source": [
        "#### Second approach\n",
        "You can use *slightly different techniques* if they suits you. Take a look at this derivation:\n",
        "<img src=\"https://github.com/girafe-ai/ml-course/blob/23f_basic/homeworks/lab01_ml_pipeline/grad.png?raw=1\">\n",
        "(excerpt from [Handbook of blind source separation, Jutten, page 517](https://books.google.ru/books?id=PTbj03bYH6kC&printsec=frontcover&dq=Handbook+of+Blind+Source+Separation&hl=en&sa=X&ved=0ahUKEwi-q_apiJDLAhULvXIKHVXJDWcQ6AEIHDAA#v=onepage&q=Handbook%20of%20Blind%20Source%20Separation&f=false), open for better picture)."
      ]
    },
    {
      "cell_type": "markdown",
      "metadata": {
        "id": "BUSHtNYg1Z2K"
      },
      "source": [
        "#### Third approach\n",
        "And finally we can use chain rule!\n",
        "let $ F = AS $\n",
        "\n",
        "**Find**\n",
        "$$\n",
        "\\frac{dJ}{dF} =  \n",
        "$$\n",
        "and\n",
        "$$\n",
        "\\frac{dF}{dS} =  \n",
        "$$\n",
        "(the shape should be $ NM \\times RM )$.\n",
        "\n",
        "Now it is easy do get desired gradients:\n",
        "$$\n",
        "\\frac{dJ}{dS} =  \n",
        "$$"
      ]
    },
    {
      "cell_type": "markdown",
      "source": [
        "$$\n",
        "Решение:\\\\\n",
        "Разложим\\ функцию\\ потерь:\\\\\n",
        "Фробениусова\\ норма\\ квадрата\\ ошибки\\ может\\ быть\\ выражена\\ через\\ след:\\\\\n",
        "J = \\|X - AS\\|_F^2 = \\operatorname{tr}((X - AS)(X - AS)^T)\\\\\n",
        "Раскроем\\ скобки:\\\\\n",
        "(X - AS)(X - AS)^T = XX^T - X S^T A^T - A S X^T + A S S^T A^T\\\\\n",
        "Используя\\ линейность\\ следа:\\\\\n",
        "J = \\operatorname{tr}(XX^T) - 2\\operatorname{tr}(ASX^T) + \\operatorname{tr}(ASS^TA^T)\\\\\n",
        "Теперь\\ будем\\ находить\\ градиент\\ \\frac{\\partial J}{\\partial S}. Учитывая, что\\ A\\ и\\ X\\ фиксированы:\\\\\n",
        "\\frac{\\partial}{\\partial S} \\operatorname{tr}(XX^T) = 0, так\\ как\\ оно\\ не\\ зависит\\ от\\ S \\\\\n",
        "\\frac{\\partial}{\\partial S} \\operatorname{tr}(-2ASX^T) = -2A^T X\\\\\n",
        "\\frac{\\partial}{\\partial S} \\operatorname{tr}(ASS^TA^T) = 2A^T A S\\\\\n",
        "Итого:\\ \\frac{\\partial J}{\\partial S} = 2A^T A S - 2A^T X\n",
        "$$"
      ],
      "metadata": {
        "id": "txkwhuR1l-VV"
      }
    },
    {
      "cell_type": "code",
      "source": [
        "import numpy as np\n",
        "\n",
        "# Задаем матрицу X (N x M), матрицу A (N x R) и матрицу S (R x M)\n",
        "X = np.array([[5, 6], [7, 8]])  # Пример матрицы X (2x2)\n",
        "A = np.array([[1, 2], [3, 4]])  # Пример матрицы A (2x2)\n",
        "S = np.array([[1, 0], [0, 1]])  # Пример матрицы S (2x2)\n",
        "\n",
        "# Вычисляем градиент J по S: dJ/dS = 2 * (A^T A S - A^T X)\n",
        "AtA = np.dot(A.T, A)        # A^T A\n",
        "AtX = np.dot(A.T, X)        # A^T X\n",
        "grad_S = 2 * (np.dot(AtA, S) - AtX)  # Градиент\n",
        "\n",
        "# Выводим результат\n",
        "print(\"Градиент dJ/dS:\")\n",
        "print(grad_S)\n"
      ],
      "metadata": {
        "colab": {
          "base_uri": "https://localhost:8080/"
        },
        "collapsed": true,
        "id": "8fsmyFOnl-l2",
        "outputId": "67f9fe2f-fde6-4672-a0c4-d455de0a91ef"
      },
      "execution_count": 2,
      "outputs": [
        {
          "output_type": "stream",
          "name": "stdout",
          "text": [
            "Градиент dJ/dS:\n",
            "[[-32 -32]\n",
            " [-48 -48]]\n"
          ]
        }
      ]
    },
    {
      "cell_type": "markdown",
      "metadata": {
        "collapsed": true,
        "jupyter": {
          "outputs_hidden": true
        },
        "id": "FG7TkrZA1Z2K"
      },
      "source": [
        "## 2. kNN questions\n",
        "Here come the questions from the assignment0_01. Please, refer to the assignment0_01 to get the context of the questions."
      ]
    },
    {
      "cell_type": "markdown",
      "metadata": {
        "id": "XdRjU7vz1Z2K"
      },
      "source": [
        "### Question 1\n",
        "\n",
        "Notice the structured patterns in the distance matrix, where some rows or columns are visible brighter. (Note that with the default color scheme black indicates low distances while white indicates high distances.)\n",
        "\n",
        "- What in the data is the cause behind the distinctly bright rows?\n",
        "- What causes the columns?\n",
        "\n",
        "*Your Answer:*\n",
        "\n",
        "Яркие строки — это тестовые цифры, такие что в обучающем наборе есть мало похожих на них цифр.\n",
        "\n",
        "Яркие столбцы — это цифры из обучающего набора, у которых нет похожих цифр в тестовом наборе\n",
        "\n",
        "\n"
      ]
    },
    {
      "cell_type": "markdown",
      "metadata": {
        "id": "QruIaBGX1Z2K"
      },
      "source": [
        "### Question 2\n",
        "\n",
        "We can also use other distance metrics such as L1 distance.\n",
        "For pixel values $p_{ij}^{(k)}$ at location $(i,j)$ of some image $I_k$,\n",
        "\n",
        "the mean $\\mu$ across all pixels over all images is $$\\mu=\\frac{1}{nhw}\\sum_{k=1}^n\\sum_{i=1}^{h}\\sum_{j=1}^{w}p_{ij}^{(k)}$$\n",
        "And the pixel-wise mean $\\mu_{ij}$ across all images is\n",
        "$$\\mu_{ij}=\\frac{1}{n}\\sum_{k=1}^np_{ij}^{(k)}.$$\n",
        "The general standard deviation $\\sigma$ and pixel-wise standard deviation $\\sigma_{ij}$ is defined similarly.\n",
        "\n",
        "Which of the following preprocessing steps will not change the performance of a Nearest Neighbor classifier that uses L1 distance? Select all that apply.\n",
        "1. Subtracting the mean $\\mu$ ($\\tilde{p}_{ij}^{(k)}=p_{ij}^{(k)}-\\mu$.)\n",
        "2. Subtracting the per pixel mean $\\mu_{ij}$  ($\\tilde{p}_{ij}^{(k)}=p_{ij}^{(k)}-\\mu_{ij}$.)\n",
        "3. Subtracting the mean $\\mu$ and dividing by the standard deviation $\\sigma$.\n",
        "4. Subtracting the pixel-wise mean $\\mu_{ij}$ and dividing by the pixel-wise standard deviation $\\sigma_{ij}$.\n",
        "5. Rotating the coordinate axes of the data.\n",
        "\n",
        "*Your Answer:*\n",
        "\n",
        "1 и 3\n",
        "\n",
        "*Your Explanation:*\n",
        "\n",
        "1- L1-расстояние инвариантно к глобальному сдвигу, то есть относительные расстояния между образцами не изменяются\n",
        "\n",
        "3- выполнение стандартизации не изменяет относительные расстояния между образцами, поскольку она изменяет все пиксели одинаково по всему набору данных.\n",
        "\n"
      ]
    },
    {
      "cell_type": "markdown",
      "metadata": {
        "id": "HWp3oJS71Z2K"
      },
      "source": [
        "## Question 3\n",
        "\n",
        "Which of the following statements about $k$-Nearest Neighbor ($k$-NN) are true in a classification setting, and for all $k$? Select all that apply.\n",
        "1. The decision boundary (hyperplane between classes in feature space) of the k-NN classifier is linear.\n",
        "2. The training error of a 1-NN will always be lower than that of 5-NN.\n",
        "3. The test error of a 1-NN will always be lower than that of a 5-NN.\n",
        "4. The time needed to classify a test example with the k-NN classifier grows with the size of the training set.\n",
        "5. None of the above.\n",
        "\n",
        "*Your Answer:*\n",
        "\n",
        "1. Ложь, так как граница может иметь сложную форму\n",
        "2. Правда, та как каждый пример - свой собственный сосед\n",
        "3. Ложь\n",
        "4. Правда. Для классификация нового примера необходимо вычисление расстояния до всех остальных примеров\n",
        "5. Ложь\n",
        "\n"
      ]
    }
  ],
  "metadata": {
    "kernelspec": {
      "display_name": "mipt",
      "language": "python",
      "name": "mipt"
    },
    "language_info": {
      "codemirror_mode": {
        "name": "ipython",
        "version": 3
      },
      "file_extension": ".py",
      "mimetype": "text/x-python",
      "name": "python",
      "nbconvert_exporter": "python",
      "pygments_lexer": "ipython3",
      "version": "3.9.5"
    },
    "colab": {
      "provenance": []
    }
  },
  "nbformat": 4,
  "nbformat_minor": 0
}