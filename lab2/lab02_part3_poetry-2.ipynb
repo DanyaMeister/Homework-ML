{
  "cells": [
    {
      "cell_type": "markdown",
      "metadata": {
        "id": "-ZeUTGuVKQc8"
      },
      "source": [
        "## Lab 2"
      ]
    },
    {
      "cell_type": "markdown",
      "metadata": {
        "id": "ra7U_wErKQc9"
      },
      "source": [
        "### Part 3. Poetry generation\n",
        "\n",
        "Let's try to generate some poetry using RNNs.\n",
        "\n",
        "You have several choices here:\n",
        "\n",
        "* The Shakespeare sonnets, file `sonnets.txt` available in the notebook directory.\n",
        "\n",
        "* Роман в стихах \"Евгений Онегин\" Александра Сергеевича Пушкина. В предобработанном виде доступен по [ссылке](https://github.com/attatrol/data_sources/blob/master/onegin.txt).\n",
        "\n",
        "* Some other text source, if it will be approved by the course staff.\n",
        "\n",
        "Text generation can be designed in several steps:\n",
        "    \n",
        "1. Data loading.\n",
        "2. Dictionary generation.\n",
        "3. Data preprocessing.\n",
        "4. Model (neural network) training.\n",
        "5. Text generation (model evaluation).\n"
      ]
    },
    {
      "cell_type": "code",
      "execution_count": 28,
      "metadata": {
        "id": "OhmD0NYbKQc-"
      },
      "outputs": [],
      "source": [
        "import string\n",
        "import os"
      ]
    },
    {
      "cell_type": "markdown",
      "metadata": {
        "id": "-aERg_hNKQc_"
      },
      "source": [
        "### Data loading: Shakespeare"
      ]
    },
    {
      "cell_type": "markdown",
      "metadata": {
        "id": "G0pAiUCNKQc_"
      },
      "source": [
        "Shakespeare sonnets are awailable at this [link](http://www.gutenberg.org/ebooks/1041?msg=welcome_stranger). In addition, they are stored in the same directory as this notebook (`sonnetes.txt`). Simple preprocessing is already done for you in the next cell: all technical info is dropped."
      ]
    },
    {
      "cell_type": "code",
      "execution_count": 29,
      "metadata": {
        "collapsed": true,
        "id": "p85qkYicKQc_"
      },
      "outputs": [],
      "source": [
        "if not os.path.exists('sonnets.txt'):\n",
        "    !wget https://raw.githubusercontent.com/girafe-ai/ml-course/22f_basic/homeworks_basic/lab02_deep_learning/sonnets.txt\n",
        "\n",
        "with open('sonnets.txt', 'r') as iofile:\n",
        "    text = iofile.readlines()\n",
        "\n",
        "TEXT_START = 45\n",
        "TEXT_END = -368\n",
        "text = text[TEXT_START : TEXT_END]\n",
        "assert len(text) == 2616"
      ]
    },
    {
      "cell_type": "markdown",
      "metadata": {
        "id": "NGaqKyxXKQdA"
      },
      "source": [
        "In opposite to the in-class practice, this time we want to predict complex text. Let's reduce the complexity of the task and lowercase all the symbols.\n",
        "\n",
        "Now variable `text` is a list of strings. Join all the strings into one and lowercase it."
      ]
    },
    {
      "cell_type": "code",
      "source": [
        "text_join = ''.join(text)\n",
        "len(text_join)"
      ],
      "metadata": {
        "colab": {
          "base_uri": "https://localhost:8080/"
        },
        "id": "_Gxz-l9VLNZn",
        "outputId": "6dae7e15-71be-45cd-e78e-b892d8caa699"
      },
      "execution_count": 30,
      "outputs": [
        {
          "output_type": "execute_result",
          "data": {
            "text/plain": [
              "100225"
            ]
          },
          "metadata": {},
          "execution_count": 30
        }
      ]
    },
    {
      "cell_type": "code",
      "execution_count": 31,
      "metadata": {
        "colab": {
          "base_uri": "https://localhost:8080/"
        },
        "id": "ooA2HWJLKQdA",
        "outputId": "3a354a6e-adeb-430f-82d2-b6d99db083a6"
      },
      "outputs": [
        {
          "output_type": "stream",
          "name": "stdout",
          "text": [
            "OK!\n"
          ]
        }
      ],
      "source": [
        "# Join all the strings into one and lowercase it\n",
        "# Put result into variable text.\n",
        "\n",
        "# Your great code here\n",
        "text = ''.join(text).lower()\n",
        "assert len(text) == 100225, 'Are you sure you have concatenated all the strings?'\n",
        "assert not any([x in set(text) for x in string.ascii_uppercase]), 'Uppercase letters are present'\n",
        "print('OK!')"
      ]
    },
    {
      "cell_type": "markdown",
      "metadata": {
        "id": "jkr3TKZdKQdA"
      },
      "source": [
        "### Data loading: \"Евгений Онегин\"\n"
      ]
    },
    {
      "cell_type": "code",
      "execution_count": 105,
      "metadata": {
        "colab": {
          "base_uri": "https://localhost:8080/"
        },
        "id": "CjhQRysXKQdB",
        "outputId": "840bc028-85d9-462e-bb8a-c059b803291f"
      },
      "outputs": [
        {
          "output_type": "stream",
          "name": "stdout",
          "text": [
            "--2024-12-16 20:19:02--  https://raw.githubusercontent.com/attatrol/data_sources/master/onegin.txt\n",
            "Resolving raw.githubusercontent.com (raw.githubusercontent.com)... 185.199.111.133, 185.199.109.133, 185.199.108.133, ...\n",
            "Connecting to raw.githubusercontent.com (raw.githubusercontent.com)|185.199.111.133|:443... connected.\n",
            "HTTP request sent, awaiting response... 200 OK\n",
            "Length: 262521 (256K) [text/plain]\n",
            "Saving to: ‘onegin.txt.5’\n",
            "\n",
            "\ronegin.txt.5          0%[                    ]       0  --.-KB/s               \ronegin.txt.5        100%[===================>] 256.37K  --.-KB/s    in 0.04s   \n",
            "\n",
            "2024-12-16 20:19:02 (6.88 MB/s) - ‘onegin.txt.5’ saved [262521/262521]\n",
            "\n",
            "['\\n', 'I\\n', '\\n', '«Мой дядя самых честных правил,\\n', 'Когда не в шутку занемог,\\n', 'Он уважать себя заставил\\n', 'И лучше выдумать не мог.\\n', 'Его пример другим наука;\\n', 'Но, боже мой, какая скука\\n', 'С больным сидеть и день и ночь,\\n']\n"
          ]
        }
      ],
      "source": [
        "!wget https://raw.githubusercontent.com/attatrol/data_sources/master/onegin.txt\n",
        "\n",
        "with open('onegin.txt', 'r') as iofile:\n",
        "    text = iofile.readlines()\n",
        "\n",
        "text = [x.replace('\\t\\t', '') for x in text]\n",
        "print(text[0:10])"
      ]
    },
    {
      "cell_type": "markdown",
      "metadata": {
        "id": "9bq2UaREKQdB"
      },
      "source": [
        "In opposite to the in-class practice, this time we want to predict complex text. Let's reduce the complexity of the task and lowercase all the symbols.\n",
        "\n",
        "Now variable `text` is a list of strings. Join all the strings into one and lowercase it."
      ]
    },
    {
      "cell_type": "code",
      "execution_count": 106,
      "metadata": {
        "colab": {
          "base_uri": "https://localhost:8080/"
        },
        "id": "p3ZcTBNlKQdB",
        "outputId": "17c802d1-3ee0-4167-8b04-9b41396ba7e3"
      },
      "outputs": [
        {
          "output_type": "stream",
          "name": "stdout",
          "text": [
            "\n",
            "i\n",
            "\n",
            "«мой дядя самых честных правил,\n",
            "когда не в шутку занемог,\n",
            "он уважать себя заставил\n",
            "и лучше выдумать не мог.\n",
            "его пример другим наука;\n",
            "но, боже мой, какая скука\n",
            "с больным сидеть и день и ночь,\n",
            "не отходя ни шагу прочь!\n",
            "какое низкое коварство\n",
            "полуживого забавлять,\n",
            "ему подушки поправлять,\n",
            "печально подносить лекарство,\n",
            "вздыхать и думать про себя:\n",
            "когда же черт возьмет тебя!»\n",
            "\n",
            "\n",
            "\n",
            "ii\n",
            "\n",
            "так думал молодой повеса,\n",
            "летя в пыли на почтовых,\n",
            "всевышней волею зевеса\n",
            "наследник всех своих родных. —\n",
            "друзья людми\n"
          ]
        }
      ],
      "source": [
        "# Объединение всех строк в одну и приведение к нижнему регистру\n",
        "full_text = ''.join(text).lower()\n",
        "\n",
        "# Вывод части результата для проверки\n",
        "print(full_text[:500])"
      ]
    },
    {
      "cell_type": "code",
      "source": [
        "import re\n",
        "\n",
        "# Оставляем только русские буквы и выбранные символы\n",
        "text = ''.join(char for char in full_text if re.match(r\"[а-яё.,!?;:\\-()\\\"'«»\\s]\", char))\n",
        "\n",
        "# Удаляем лишние пробелы и пустые строки\n",
        "lines = [line.strip() for line in text.split('\\n') if line.strip()]\n",
        "text = '\\n'.join(lines)\n",
        "\n",
        "# Вывод результата\n",
        "print(text[:500])"
      ],
      "metadata": {
        "colab": {
          "base_uri": "https://localhost:8080/"
        },
        "id": "0l5WOObKqu-k",
        "outputId": "377c0e1c-78d2-4677-def6-a04f0feb6f41"
      },
      "execution_count": 107,
      "outputs": [
        {
          "output_type": "stream",
          "name": "stdout",
          "text": [
            "«мой дядя самых честных правил,\n",
            "когда не в шутку занемог,\n",
            "он уважать себя заставил\n",
            "и лучше выдумать не мог.\n",
            "его пример другим наука;\n",
            "но, боже мой, какая скука\n",
            "с больным сидеть и день и ночь,\n",
            "не отходя ни шагу прочь!\n",
            "какое низкое коварство\n",
            "полуживого забавлять,\n",
            "ему подушки поправлять,\n",
            "печально подносить лекарство,\n",
            "вздыхать и думать про себя:\n",
            "когда же черт возьмет тебя!»\n",
            "так думал молодой повеса,\n",
            "летя в пыли на почтовых,\n",
            "всевышней волею зевеса\n",
            "наследник всех своих родных.\n",
            "друзья людмилы и руслана!\n"
          ]
        }
      ]
    },
    {
      "cell_type": "markdown",
      "metadata": {
        "id": "6rocXNjLKQdC"
      },
      "source": [
        "Put all the characters, that you've seen in the text, into variable `tokens`."
      ]
    },
    {
      "cell_type": "code",
      "source": [
        "# Извлечение всех уникальных символов из текста\n",
        "tokens = set(text)\n",
        "\n",
        "# Вывод всех символов\n",
        "print(tokens)\n",
        "\n",
        "# Вывод количества уникальных символов\n",
        "print(f\"Количество уникальных символов: {len(tokens)}\")"
      ],
      "metadata": {
        "colab": {
          "base_uri": "https://localhost:8080/"
        },
        "id": "RPS70ibKrI0C",
        "outputId": "215ba680-2730-4709-abe7-887b5e4b2c91"
      },
      "execution_count": 108,
      "outputs": [
        {
          "output_type": "stream",
          "name": "stdout",
          "text": [
            "{'ш', '!', 'й', ';', 'я', 'ы', 'ф', ')', 'с', 'к', ':', '«', ',', '\\n', 'б', 'э', '?', 'ю', ' ', 'ч', 'м', 'т', 'ё', 'щ', 'ъ', 'з', 'п', 'у', 'ж', '-', 'е', 'р', 'в', '(', 'д', 'ь', '»', 'н', '.', 'о', 'ц', 'а', 'г', 'и', 'х', 'л'}\n",
            "Количество уникальных символов: 46\n"
          ]
        }
      ]
    },
    {
      "cell_type": "markdown",
      "metadata": {
        "id": "R9tecaoGKQdC"
      },
      "source": [
        "Create dictionary `token_to_idx = {<char>: <index>}` and dictionary `idx_to_token = {<index>: <char>}`"
      ]
    },
    {
      "cell_type": "code",
      "source": [
        "sorted_tokens = sorted(tokens)\n",
        "\n",
        "# Создаем словарь: символ -> индекс\n",
        "token_to_idx = {char: idx for idx, char in enumerate(sorted_tokens)}\n",
        "\n",
        "# Создаем словарь: индекс -> символ\n",
        "idx_to_token = {idx: char for idx, char in enumerate(sorted_tokens)}\n",
        "\n",
        "# Вывод для проверки\n",
        "print(\"Пример словаря token_to_idx:\", list(token_to_idx.items())[:46])\n",
        "print(\"Пример словаря idx_to_token:\", list(idx_to_token.items())[:46])"
      ],
      "metadata": {
        "colab": {
          "base_uri": "https://localhost:8080/"
        },
        "id": "3pliXMpks4up",
        "outputId": "17c96e5a-0be2-44a1-95eb-6c7c57df790d"
      },
      "execution_count": 109,
      "outputs": [
        {
          "output_type": "stream",
          "name": "stdout",
          "text": [
            "Пример словаря token_to_idx: [('\\n', 0), (' ', 1), ('!', 2), ('(', 3), (')', 4), (',', 5), ('-', 6), ('.', 7), (':', 8), (';', 9), ('?', 10), ('«', 11), ('»', 12), ('а', 13), ('б', 14), ('в', 15), ('г', 16), ('д', 17), ('е', 18), ('ж', 19), ('з', 20), ('и', 21), ('й', 22), ('к', 23), ('л', 24), ('м', 25), ('н', 26), ('о', 27), ('п', 28), ('р', 29), ('с', 30), ('т', 31), ('у', 32), ('ф', 33), ('х', 34), ('ц', 35), ('ч', 36), ('ш', 37), ('щ', 38), ('ъ', 39), ('ы', 40), ('ь', 41), ('э', 42), ('ю', 43), ('я', 44), ('ё', 45)]\n",
            "Пример словаря idx_to_token: [(0, '\\n'), (1, ' '), (2, '!'), (3, '('), (4, ')'), (5, ','), (6, '-'), (7, '.'), (8, ':'), (9, ';'), (10, '?'), (11, '«'), (12, '»'), (13, 'а'), (14, 'б'), (15, 'в'), (16, 'г'), (17, 'д'), (18, 'е'), (19, 'ж'), (20, 'з'), (21, 'и'), (22, 'й'), (23, 'к'), (24, 'л'), (25, 'м'), (26, 'н'), (27, 'о'), (28, 'п'), (29, 'р'), (30, 'с'), (31, 'т'), (32, 'у'), (33, 'ф'), (34, 'х'), (35, 'ц'), (36, 'ч'), (37, 'ш'), (38, 'щ'), (39, 'ъ'), (40, 'ы'), (41, 'ь'), (42, 'э'), (43, 'ю'), (44, 'я'), (45, 'ё')]\n"
          ]
        }
      ]
    },
    {
      "cell_type": "markdown",
      "metadata": {
        "id": "sse5pcxCKQdC"
      },
      "source": [
        "*Comment: in this task we have only 38 different tokens, so let's use one-hot encoding.*"
      ]
    },
    {
      "cell_type": "markdown",
      "metadata": {
        "id": "gNh6VC6SKQdD"
      },
      "source": [
        "### Building the model"
      ]
    },
    {
      "cell_type": "markdown",
      "metadata": {
        "id": "ib9WXRyrKQdD"
      },
      "source": [
        "Now we want to build and train recurrent neural net which would be able to something similar to Shakespeare's poetry.\n",
        "\n",
        "Let's use vanilla RNN, similar to the one created during the lesson."
      ]
    },
    {
      "cell_type": "code",
      "execution_count": 110,
      "metadata": {
        "collapsed": true,
        "id": "jRsKvpifKQdD"
      },
      "outputs": [],
      "source": [
        "import string\n",
        "import os\n",
        "import numpy as np\n",
        "import re\n",
        "\n",
        "import torch\n",
        "import torch.nn as nn\n",
        "import torch.optim as optim"
      ]
    },
    {
      "cell_type": "code",
      "source": [
        "# Устройство для выполнения вычислений (GPU, если доступно)\n",
        "device = torch.device(\"cuda\" if torch.cuda.is_available() else \"cpu\")\n",
        "\n",
        "# Инициализация случайного генератора для воспроизводимости\n",
        "SEED = 42\n",
        "np.random.seed(SEED)\n",
        "\n",
        "# Гиперпараметры\n",
        "BATCH_SIZE = 32        # Размер батча\n",
        "SEQ_LEN = 100          # Длина последовательности\n",
        "HIDDEN_SIZE = 128      # Размер скрытого состояния RNN\n",
        "NUM_LAYERS = 2         # Количество слоев в RNN\n",
        "LEARNING_RATE = 0.001  # Скорость обучения"
      ],
      "metadata": {
        "id": "EY-5d5RXEFMi"
      },
      "execution_count": 111,
      "outputs": []
    },
    {
      "cell_type": "code",
      "source": [
        "VOCAB_SIZE = len(tokens)  # Размер словаря\n",
        "\n",
        "# Преобразование текста в последовательность индексов\n",
        "text_encoded = [token_to_idx[char] for char in text]"
      ],
      "metadata": {
        "id": "jPalV5i6EUoo"
      },
      "execution_count": 112,
      "outputs": []
    },
    {
      "cell_type": "code",
      "source": [
        "# Генератор батчей для обучения\n",
        "def generate_chunk():\n",
        "    global text_encoded, start_column\n",
        "\n",
        "    start_index = np.random.randint(0, len(text_encoded) - BATCH_SIZE * SEQ_LEN - 1)\n",
        "    data = np.array(text_encoded[start_index:start_index + BATCH_SIZE * SEQ_LEN]).reshape((BATCH_SIZE, -1))\n",
        "    yield data"
      ],
      "metadata": {
        "id": "E19I5bC2EahM"
      },
      "execution_count": 113,
      "outputs": []
    },
    {
      "cell_type": "code",
      "source": [
        "# Определение модели Vanilla RNN\n",
        "class VanillaRNN(nn.Module):\n",
        "    def __init__(self, vocab_size, hidden_size, num_layers):\n",
        "        super(VanillaRNN, self).__init__()\n",
        "\n",
        "        self.hidden_size = hidden_size\n",
        "\n",
        "        # Слой эмбеддинга для преобразования входных данных в плотные векторы\n",
        "        self.embedding = nn.Embedding(vocab_size, hidden_size)\n",
        "\n",
        "        # RNN слой\n",
        "        self.rnn = nn.RNN(\n",
        "            input_size=hidden_size,\n",
        "            hidden_size=hidden_size,\n",
        "            num_layers=num_layers,\n",
        "            batch_first=True\n",
        "        )\n",
        "\n",
        "        # Полносвязный слой для предсказания следующего символа\n",
        "        self.fc = nn.Linear(hidden_size, vocab_size)\n",
        "\n",
        "    def forward(self, x, hidden=None):\n",
        "        \"\"\"\n",
        "        Прямой проход модели.\n",
        "        :param x: Входная последовательность (batch_size, seq_len)\n",
        "        :param hidden: Начальное скрытое состояние (опционально)\n",
        "        :return: Логиты (batch_size, seq_len, vocab_size), обновленное скрытое состояние\n",
        "        \"\"\"\n",
        "        embedded = self.embedding(x)  # Преобразование входных индексов в эмбеддинги\n",
        "        output, hidden = self.rnn(embedded, hidden)  # RNN обработка\n",
        "        logits = self.fc(output)  # Предсказания\n",
        "        return logits, hidden\n"
      ],
      "metadata": {
        "id": "jgRXFgxwEbza"
      },
      "execution_count": 114,
      "outputs": []
    },
    {
      "cell_type": "code",
      "source": [
        "# Функция генерации текста\n",
        "def generate_text(model, start_seq, length, temperature=1.0, max_line_length=80):\n",
        "    \"\"\"\n",
        "    Генерация текста на основе обученной модели.\n",
        "    :param model: Обученная модель\n",
        "    :param start_seq: Начальная последовательность текста\n",
        "    :param length: Длина текста для генерации\n",
        "    :param temperature: Температура для управления случайностью генерации\n",
        "    :param max_line_length: Максимальная длина строки перед переносом\n",
        "    :return: Сгенерированный текст\n",
        "    \"\"\"\n",
        "    model.eval()\n",
        "    generated = [token_to_idx[char] for char in start_seq]\n",
        "    hidden = None\n",
        "\n",
        "    current_line_length = 0\n",
        "    generated_text = start_seq.capitalize()\n",
        "\n",
        "    for _ in range(length):\n",
        "        input_seq = torch.tensor([generated[-SEQ_LEN:]], dtype=torch.long).to(device)\n",
        "        logits, hidden = model(input_seq, hidden)\n",
        "\n",
        "        # Применение температуры\n",
        "        logits = logits[:, -1, :] / temperature\n",
        "        probabilities = torch.softmax(logits, dim=-1).cpu().data.numpy()[0]\n",
        "\n",
        "        # Выбор следующего символа\n",
        "        next_char_idx = np.random.choice(len(probabilities), p=probabilities)\n",
        "        next_char = idx_to_token[next_char_idx]\n",
        "\n",
        "        if next_char == '\\n' or current_line_length >= max_line_length:\n",
        "            generated_text += '\\n'\n",
        "            current_line_length = 0\n",
        "        else:\n",
        "            if current_line_length == 0:\n",
        "                next_char = next_char.capitalize()\n",
        "            generated_text += next_char\n",
        "            current_line_length += 1\n",
        "\n",
        "        generated.append(next_char_idx)\n",
        "\n",
        "    return generated_text"
      ],
      "metadata": {
        "id": "pHmxrrTRFXc_"
      },
      "execution_count": 161,
      "outputs": []
    },
    {
      "cell_type": "code",
      "source": [
        "# Создание модели, функции потерь и оптимизатора\n",
        "model = VanillaRNN(VOCAB_SIZE, HIDDEN_SIZE, NUM_LAYERS).to(device)\n",
        "criterion = nn.CrossEntropyLoss()  # Функция потерь для классификации\n",
        "optimizer = optim.Adam(model.parameters(), lr=LEARNING_RATE)  # Оптимизатор"
      ],
      "metadata": {
        "id": "8c_RQoohEgEV"
      },
      "execution_count": 123,
      "outputs": []
    },
    {
      "cell_type": "code",
      "source": [
        "# Список для хранения потерь по каждой итерации\n",
        "iteration_losses = []\n",
        "\n",
        "# Цикл обучения\n",
        "EPOCHS = 50\n",
        "loss_history = []\n",
        "\n",
        "for epoch in range(EPOCHS):\n",
        "    model.train()\n",
        "    total_loss = 0\n",
        "\n",
        "    for batch in generate_chunk():\n",
        "        batch = torch.tensor(batch, dtype=torch.long).to(device)\n",
        "\n",
        "        # Разделение данных на входы и целевые значения\n",
        "        inputs = batch[:, :-1]  # Входные последовательности\n",
        "        targets = batch[:, 1:]  # Целевые последовательности\n",
        "\n",
        "        # Обнуление градиентов\n",
        "        optimizer.zero_grad()\n",
        "\n",
        "        # Прямой проход\n",
        "        logits, _ = model(inputs)\n",
        "\n",
        "        # Изменение формы для совместимости с CrossEntropyLoss\n",
        "        logits = logits.reshape(-1, VOCAB_SIZE)\n",
        "        targets = targets.reshape(-1)\n",
        "\n",
        "        # Вычисление потерь и обратный проход\n",
        "        loss = criterion(logits, targets)\n",
        "        loss.backward()\n",
        "        optimizer.step()\n",
        "\n",
        "        total_loss += loss.item()\n",
        "\n",
        "        # Сохранение потерь по каждой итерации\n",
        "        iteration_losses.append(loss.item())\n",
        "\n",
        "    # Логирование потерь для каждой эпохи\n",
        "    loss_history.append(total_loss)\n",
        "    print(f\"Epoch {epoch + 1}/{EPOCHS}: Loss - {total_loss:.4f}\")"
      ],
      "metadata": {
        "colab": {
          "base_uri": "https://localhost:8080/"
        },
        "id": "b21iHB36EkqM",
        "outputId": "4dcceb9c-9293-4f04-8f17-fc12e8715555"
      },
      "execution_count": 124,
      "outputs": [
        {
          "output_type": "stream",
          "name": "stdout",
          "text": [
            "Epoch 1/50: Loss - 3.8470\n",
            "Epoch 2/50: Loss - 3.7795\n",
            "Epoch 3/50: Loss - 3.7152\n",
            "Epoch 4/50: Loss - 3.6503\n",
            "Epoch 5/50: Loss - 3.5865\n",
            "Epoch 6/50: Loss - 3.4976\n",
            "Epoch 7/50: Loss - 3.4311\n",
            "Epoch 8/50: Loss - 3.3252\n",
            "Epoch 9/50: Loss - 3.2640\n",
            "Epoch 10/50: Loss - 3.2481\n",
            "Epoch 11/50: Loss - 3.2146\n",
            "Epoch 12/50: Loss - 3.1614\n",
            "Epoch 13/50: Loss - 3.1754\n",
            "Epoch 14/50: Loss - 3.1290\n",
            "Epoch 15/50: Loss - 3.1047\n",
            "Epoch 16/50: Loss - 3.0985\n",
            "Epoch 17/50: Loss - 3.0604\n",
            "Epoch 18/50: Loss - 3.0372\n",
            "Epoch 19/50: Loss - 3.0036\n",
            "Epoch 20/50: Loss - 3.0092\n",
            "Epoch 21/50: Loss - 2.9686\n",
            "Epoch 22/50: Loss - 2.9987\n",
            "Epoch 23/50: Loss - 2.9807\n",
            "Epoch 24/50: Loss - 2.9056\n",
            "Epoch 25/50: Loss - 2.9232\n",
            "Epoch 26/50: Loss - 2.9092\n",
            "Epoch 27/50: Loss - 2.9147\n",
            "Epoch 28/50: Loss - 2.8871\n",
            "Epoch 29/50: Loss - 2.8300\n",
            "Epoch 30/50: Loss - 2.8059\n",
            "Epoch 31/50: Loss - 2.8006\n",
            "Epoch 32/50: Loss - 2.7886\n",
            "Epoch 33/50: Loss - 2.7648\n",
            "Epoch 34/50: Loss - 2.7938\n",
            "Epoch 35/50: Loss - 2.7917\n",
            "Epoch 36/50: Loss - 2.7525\n",
            "Epoch 37/50: Loss - 2.7527\n",
            "Epoch 38/50: Loss - 2.7346\n",
            "Epoch 39/50: Loss - 2.7016\n",
            "Epoch 40/50: Loss - 2.7419\n",
            "Epoch 41/50: Loss - 2.6803\n",
            "Epoch 42/50: Loss - 2.6947\n",
            "Epoch 43/50: Loss - 2.6848\n",
            "Epoch 44/50: Loss - 2.6871\n",
            "Epoch 45/50: Loss - 2.6826\n",
            "Epoch 46/50: Loss - 2.6364\n",
            "Epoch 47/50: Loss - 2.6429\n",
            "Epoch 48/50: Loss - 2.6877\n",
            "Epoch 49/50: Loss - 2.6402\n",
            "Epoch 50/50: Loss - 2.6007\n"
          ]
        }
      ]
    },
    {
      "cell_type": "code",
      "source": [
        "# Пример генерации текста\n",
        "start_sequence = \"мой дядя самых честных правил,\"\n",
        "generated_text = generate_text(model, start_sequence,1000, temperature=0.4)\n",
        "print(generated_text)"
      ],
      "metadata": {
        "colab": {
          "base_uri": "https://localhost:8080/"
        },
        "id": "b9jBNJ3mQ4Hn",
        "outputId": "7fe2d440-8151-427e-ace4-816a7b6130f6"
      },
      "execution_count": 125,
      "outputs": [
        {
          "output_type": "stream",
          "name": "stdout",
          "text": [
            "Мой дядя самых честных правил,\n",
            "Не зе в брода на мона поста паный порреть в беражна вам стов стуж сторестак сост\n",
            "Сельно мели стак нене вом во ста ти строда нена бе вали ти слрат сту но полики в\n",
            "Сто воз вруни стеть,\n",
            "Нель веста крости восят сто мате полам столеска сто в кодет оне стет дет коге ва\n",
            "Полоде в веда на не стань вораде на свести вол ве дав стоо вом на и пото вав вед\n",
            " нат мроста сто слеле воде не да тет порилань,\n",
            "Подалак седа полодне на нал,\n",
            "Стасте стоста во ной сет мого стол жет мет порасто стем ниль вровони м зо деме з\n",
            "М на несни боду качена вого не стое на стобне вон,\n",
            "Де вова весто слет\n",
            "Е вене, веле не мете стоне гом вот ве сене под,\n",
            "Стов волав во на дести сто вена пораво стим,\n",
            "Де во то ной посто то премо состо сторам вам селене сте с строш столыче мода вед\n",
            "Булав то кот печет пода вое тоста стет вом водаль сто кеди верасти срок стороный\n",
            "Подос сели сто гот дем воль но ста сене воть во бемем ет на сна рат но позуко в \n",
            "Етане стом в стол вол на воде вени сто на така на на вал оно вали свороно сет ст\n",
            "Ли вево те\n"
          ]
        }
      ]
    },
    {
      "cell_type": "markdown",
      "metadata": {
        "id": "4Pq8BAmkKQdD"
      },
      "source": [
        "Plot the loss function (axis X: number of epochs, axis Y: loss function)."
      ]
    },
    {
      "cell_type": "code",
      "execution_count": 127,
      "metadata": {
        "collapsed": true,
        "colab": {
          "base_uri": "https://localhost:8080/",
          "height": 563
        },
        "id": "KOJT88hCKQdE",
        "outputId": "72fd7c1f-eedf-4cfa-f365-f9500ca16e77"
      },
      "outputs": [
        {
          "output_type": "display_data",
          "data": {
            "text/plain": [
              "<Figure size 1000x600 with 1 Axes>"
            ],
            "image/png": "[encoded data removed]"
          },
          "metadata": {}
        }
      ],
      "source": [
        "import matplotlib.pyplot as plt\n",
        "\n",
        "# Plotting the loss function over epochs\n",
        "plt.figure(figsize=(10, 6))\n",
        "plt.plot(range(1, EPOCHS + 1), loss_history, label='Loss', color='b')\n",
        "plt.title('Loss Function During Training')\n",
        "plt.xlabel('Epochs')\n",
        "plt.ylabel('Loss')\n",
        "plt.grid(True)\n",
        "plt.legend()\n",
        "plt.show()"
      ]
    },
    {
      "cell_type": "code",
      "source": [
        "# Пример генерации текста, температура 0.1\n",
        "start_sequence = \"мой дядя самых честных правил,\"\n",
        "generated_text = generate_text(model, start_sequence,1000, temperature=0.3)\n",
        "print(generated_text)"
      ],
      "metadata": {
        "colab": {
          "base_uri": "https://localhost:8080/"
        },
        "id": "dvctiCxOZL7R",
        "outputId": "4f8b06c0-1c3c-43da-aa28-4ef8a9ef52fd"
      },
      "execution_count": 129,
      "outputs": [
        {
          "output_type": "stream",
          "name": "stdout",
          "text": [
            "Мой дядя самых честных правил,\n",
            "Бна ворали ворав, поле но стет пово не воде стол воли сто на сто ласта сто зама \n",
            "Оле на ста за сторат стот те де не сто валата поли мусто во мель посто стостом с\n",
            "О вола ном стот волим столь вони дет во чет бет вороно во де вето сто ной вода с\n",
            "Орене то посто рана стол сто во ст пеме с вол дет стосто столе воный подол дол н\n",
            " кам стол,\n",
            "Вол воресто сто водо де вол не но стом та сте бет ка вота стого веде на стрет ла\n",
            "А стет мел стори в редреде вет повел вот сто стот вена тальду то не подет баль н\n",
            " стел не воста и стол сто стосто в воко дем деть вол вов сраво лосто стой о во\n",
            "Не та ве подет на стово то не не сто водел полоно,\n",
            "Стол сто толи сто сто свот восто не вол вов доли сторана вола стала ста стол мов\n",
            "Дет пот не как вода то вода не буде на посталь вони водет стот бевой ворали во в\n",
            "Раз ве кола стом пором вет пололи стов стала ви восто сти вероно веде дет и стол\n",
            " вене стоно порана в сто в воде вол ви вони не стови порак полов на волене стом \n",
            "Осталь вет вастом семе то вол дет саде бори стол\n"
          ]
        }
      ]
    },
    {
      "cell_type": "code",
      "source": [
        "# Пример генерации текста, температура 0.7\n",
        "start_sequence = \"мой дядя самых честных правил,\"\n",
        "generated_text = generate_text(model, start_sequence,1000, temperature=0.7)\n",
        "print(generated_text)"
      ],
      "metadata": {
        "colab": {
          "base_uri": "https://localhost:8080/"
        },
        "id": "QQvOWnSEJuKP",
        "outputId": "4c6e4a66-0b8e-49dd-a570-9c346cda608a"
      },
      "execution_count": 130,
      "outputs": [
        {
          "output_type": "stream",
          "name": "stdout",
          "text": [
            "Мой дядя самых честных правил, манну вротой сстаки веда тла посто питне вого поста пол дат о поту, ялове вя ро\n",
            "Я бев колам брорастной пысног.\n",
            "Трем ятной бино талоно вом поров ссторьде внет,\n",
            "И бе.\n",
            "Сто ствобоя\n",
            "Тныве з чуть и глед вачоче скег една сдет вигона най нав саленной зетют гориль с\n",
            "Ело вубни пепмови да сксый кож ном пежрад\n",
            "Стона и ну дабуден,\n",
            "И ялес бекель м болта\n",
            "И бовне кожназ поте брисде тот позохродау\n",
            "Ом чек лажот крав.\n",
            "Вуе деной сто .\n",
            "Полухт, гева свол,\n",
            "И лавит ротримо,\n",
            ", свол че но повал, сыды,\n",
            "Б риди нерой кода месдесте ду тол мегот! ве( то зелыпода и пове во кате моц ттум\n",
            " соней волрезь сни нда  хуко поужнеш\n",
            "Нно тала, кабжны к бом дась гот в побо скалая енес,\n",
            "Вето вот мет до мей назну век, балобнень веднуй карене шащье но мне жет торис\n",
            "Ратя водсвашине,\n",
            "Ной дого она вос рель м ве ней зйх толе водуб ремный пуж ддоле\n",
            "О пой воти кора\n",
            "Ов бостож нек дад вый сялоге поз перонол,\n",
            "На дены ву мил бвол пралов пролоди вом т зародней лудадь вем пялек слени,\n",
            "Стох ниде вевнд, ной спвот,\n",
            "В ли толт мистат суго киль.\n",
            "Су\n"
          ]
        }
      ]
    },
    {
      "cell_type": "code",
      "execution_count": null,
      "metadata": {
        "id": "t2yKOUTXKQdE",
        "outputId": "2fadd977-1149-412b-a3c2-34ba61525034"
      },
      "outputs": [
        {
          "name": "stdout",
          "output_type": "stream",
          "text": [
            "hide my will in thine?\n",
            "  shall will in of the simend that in my sime the seave the seave the sorll the soren the sange the seall seares and and the fart the wirl the seall the songh whing that thou hall will thoun the soond beare the with that sare the simest me the fart the wirl the songre the with thy seart so for shat so for do the dost the sing the sing the sing the soond canding the sack and the farling the wirl of sore sich and that with the seare the seall so fort the with the past the wirl the simen the wirl the sores the sare\n"
          ]
        }
      ],
      "source": [
        "# An example of generated text.\n",
        "# print(generate_text(length=500, temperature=0.2))"
      ]
    },
    {
      "cell_type": "markdown",
      "metadata": {
        "id": "TR-mqFIRKQdF"
      },
      "source": [
        "### More poetic model\n",
        "\n",
        "Let's use LSTM instead of vanilla RNN and compare the results."
      ]
    },
    {
      "cell_type": "markdown",
      "metadata": {
        "id": "fpgQevqUKQdF"
      },
      "source": [
        "Plot the loss function of the number of epochs. Does the final loss become better?"
      ]
    },
    {
      "cell_type": "code",
      "execution_count": 131,
      "metadata": {
        "collapsed": true,
        "id": "JE9Ucji1KQdG"
      },
      "outputs": [],
      "source": [
        "class LSTMModel(nn.Module):\n",
        "    def __init__(self, vocab_size, hidden_size, num_layers):\n",
        "        super(LSTMModel, self).__init__()\n",
        "\n",
        "        self.hidden_size = hidden_size\n",
        "\n",
        "        # Слой эмбеддинга для преобразования входных данных в плотные векторы\n",
        "        self.embedding = nn.Embedding(vocab_size, hidden_size)\n",
        "\n",
        "        # LSTM слой\n",
        "        self.lstm = nn.LSTM(\n",
        "            input_size=hidden_size,\n",
        "            hidden_size=hidden_size,\n",
        "            num_layers=num_layers,\n",
        "            batch_first=True\n",
        "        )\n",
        "\n",
        "        # Полносвязный слой для предсказания следующего символа\n",
        "        self.fc = nn.Linear(hidden_size, vocab_size)\n",
        "\n",
        "    def forward(self, x, hidden=None):\n",
        "        \"\"\"\n",
        "        Прямой проход модели.\n",
        "        :param x: Входная последовательность (batch_size, seq_len)\n",
        "        :param hidden: Начальное скрытое состояние (опционально)\n",
        "        :return: Логиты (batch_size, seq_len, vocab_size), обновленное скрытое состояние\n",
        "        \"\"\"\n",
        "        embedded = self.embedding(x)  # Преобразование входных индексов в эмбеддинги\n",
        "        output, (hidden, cell) = self.lstm(embedded, hidden)  # LSTM обработка\n",
        "        logits = self.fc(output)  # Предсказания\n",
        "        return logits, (hidden, cell)"
      ]
    },
    {
      "cell_type": "code",
      "source": [
        "# Список для хранения потерь по каждой итерации\n",
        "iteration_losses_lstm = []\n",
        "loss_history_lstm = []\n",
        "\n",
        "# Создание модели, функции потерь и оптимизатора для LSTM\n",
        "model_lstm = LSTMModel(VOCAB_SIZE, HIDDEN_SIZE, NUM_LAYERS).to(device)\n",
        "optimizer_lstm = optim.Adam(model_lstm.parameters(), lr=LEARNING_RATE)\n"
      ],
      "metadata": {
        "id": "ubosgXiGKPLj"
      },
      "execution_count": 132,
      "outputs": []
    },
    {
      "cell_type": "code",
      "source": [
        "# Цикл обучения для LSTM\n",
        "EPOCHS = 50\n",
        "for epoch in range(EPOCHS):\n",
        "    model_lstm.train()\n",
        "    total_loss = 0\n",
        "\n",
        "    for batch in generate_chunk():\n",
        "        batch = torch.tensor(batch, dtype=torch.long).to(device)\n",
        "\n",
        "        # Разделение данных на входы и целевые значения\n",
        "        inputs = batch[:, :-1]  # Входные последовательности\n",
        "        targets = batch[:, 1:]  # Целевые последовательности\n",
        "\n",
        "        # Обнуление градиентов\n",
        "        optimizer_lstm.zero_grad()\n",
        "\n",
        "        # Прямой проход\n",
        "        logits, _ = model_lstm(inputs)\n",
        "\n",
        "        # Изменение формы для совместимости с CrossEntropyLoss\n",
        "        logits = logits.reshape(-1, VOCAB_SIZE)\n",
        "        targets = targets.reshape(-1)\n",
        "\n",
        "        # Вычисление потерь и обратный проход\n",
        "        loss = criterion(logits, targets)\n",
        "        loss.backward()\n",
        "        optimizer_lstm.step()\n",
        "\n",
        "        total_loss += loss.item()\n",
        "\n",
        "        # Сохранение потерь по каждой итерации\n",
        "        iteration_losses_lstm.append(loss.item())\n",
        "\n",
        "    # Логирование потерь для каждой эпохи\n",
        "    loss_history_lstm.append(total_loss)\n",
        "    print(f\"Epoch {epoch + 1}/{EPOCHS}, Loss: {total_loss:.4f}\")"
      ],
      "metadata": {
        "colab": {
          "base_uri": "https://localhost:8080/"
        },
        "id": "xd4Z3CIJKQz3",
        "outputId": "f6822089-8646-454a-9caa-063683743c65"
      },
      "execution_count": 133,
      "outputs": [
        {
          "output_type": "stream",
          "name": "stdout",
          "text": [
            "Epoch 1/50, Loss: 3.8373\n",
            "Epoch 2/50, Loss: 3.8208\n",
            "Epoch 3/50, Loss: 3.8036\n",
            "Epoch 4/50, Loss: 3.7843\n",
            "Epoch 5/50, Loss: 3.7610\n",
            "Epoch 6/50, Loss: 3.7289\n",
            "Epoch 7/50, Loss: 3.6830\n",
            "Epoch 8/50, Loss: 3.6193\n",
            "Epoch 9/50, Loss: 3.5504\n",
            "Epoch 10/50, Loss: 3.4410\n",
            "Epoch 11/50, Loss: 3.3849\n",
            "Epoch 12/50, Loss: 3.3629\n",
            "Epoch 13/50, Loss: 3.3452\n",
            "Epoch 14/50, Loss: 3.3400\n",
            "Epoch 15/50, Loss: 3.2678\n",
            "Epoch 16/50, Loss: 3.3002\n",
            "Epoch 17/50, Loss: 3.2411\n",
            "Epoch 18/50, Loss: 3.2766\n",
            "Epoch 19/50, Loss: 3.2669\n",
            "Epoch 20/50, Loss: 3.2541\n",
            "Epoch 21/50, Loss: 3.2858\n",
            "Epoch 22/50, Loss: 3.2534\n",
            "Epoch 23/50, Loss: 3.2498\n",
            "Epoch 24/50, Loss: 3.2450\n",
            "Epoch 25/50, Loss: 3.2800\n",
            "Epoch 26/50, Loss: 3.2344\n",
            "Epoch 27/50, Loss: 3.2061\n",
            "Epoch 28/50, Loss: 3.2287\n",
            "Epoch 29/50, Loss: 3.2436\n",
            "Epoch 30/50, Loss: 3.2104\n",
            "Epoch 31/50, Loss: 3.1885\n",
            "Epoch 32/50, Loss: 3.1946\n",
            "Epoch 33/50, Loss: 3.2314\n",
            "Epoch 34/50, Loss: 3.2006\n",
            "Epoch 35/50, Loss: 3.1883\n",
            "Epoch 36/50, Loss: 3.2106\n",
            "Epoch 37/50, Loss: 3.1858\n",
            "Epoch 38/50, Loss: 3.1549\n",
            "Epoch 39/50, Loss: 3.1401\n",
            "Epoch 40/50, Loss: 3.1565\n",
            "Epoch 41/50, Loss: 3.1333\n",
            "Epoch 42/50, Loss: 3.1283\n",
            "Epoch 43/50, Loss: 3.1652\n",
            "Epoch 44/50, Loss: 3.1181\n",
            "Epoch 45/50, Loss: 3.1106\n",
            "Epoch 46/50, Loss: 3.1081\n",
            "Epoch 47/50, Loss: 3.1135\n",
            "Epoch 48/50, Loss: 3.0640\n",
            "Epoch 49/50, Loss: 3.0802\n",
            "Epoch 50/50, Loss: 3.0459\n"
          ]
        }
      ]
    },
    {
      "cell_type": "code",
      "source": [
        "import matplotlib.pyplot as plt\n",
        "\n",
        "# Plotting the loss function over epochs\n",
        "plt.figure(figsize=(10, 6))\n",
        "plt.plot(range(1, EPOCHS + 1), loss_history_lstm, label='Loss', color='b')\n",
        "plt.title('Loss Function During Training LSTM')\n",
        "plt.xlabel('Epochs')\n",
        "plt.ylabel('Loss LSTM')\n",
        "plt.grid(True)\n",
        "plt.legend()\n",
        "plt.show()"
      ],
      "metadata": {
        "colab": {
          "base_uri": "https://localhost:8080/",
          "height": 563
        },
        "id": "epKe_lBRK7YL",
        "outputId": "1074b962-d57e-4bbe-e687-66ff202698c6"
      },
      "execution_count": 137,
      "outputs": [
        {
          "output_type": "display_data",
          "data": {
            "text/plain": [
              "<Figure size 1000x600 with 1 Axes>"
            ],
            "image/png": "[encoded data removed]"
          },
          "metadata": {}
        }
      ]
    },
    {
      "cell_type": "code",
      "source": [
        "# Построение графика потерь для обеих моделей\n",
        "plt.figure(figsize=(10, 6))\n",
        "\n",
        "# Потери для Vanilla RNN\n",
        "plt.plot(range(1, EPOCHS + 1), loss_history, label='Vanilla RNN Loss', color='b')\n",
        "\n",
        "# Потери для LSTM\n",
        "plt.plot(range(1, EPOCHS + 1), loss_history_lstm, label='LSTM Loss', color='r')\n",
        "\n",
        "# Настройки графика\n",
        "plt.title('Loss per Epoch for Vanilla RNN and LSTM')\n",
        "plt.xlabel('Epochs')\n",
        "plt.ylabel('Loss')\n",
        "plt.legend()\n",
        "plt.grid(True)\n",
        "\n",
        "# Отображение графика\n",
        "plt.tight_layout()\n",
        "plt.show()"
      ],
      "metadata": {
        "colab": {
          "base_uri": "https://localhost:8080/",
          "height": 607
        },
        "id": "zsHwrGaHKvN4",
        "outputId": "17471dac-929f-40a3-ee92-f7053552d06b"
      },
      "execution_count": 138,
      "outputs": [
        {
          "output_type": "display_data",
          "data": {
            "text/plain": [
              "<Figure size 1000x600 with 1 Axes>"
            ],
            "image/png": "[encoded data removed]"
          },
          "metadata": {}
        }
      ]
    },
    {
      "cell_type": "code",
      "source": [
        "# На 50-й эпохе потери для Vanilla RNN составляют 2.6007,\n",
        "# в то время как для LSTM потери равны 3.0459.\n",
        "# Это означает, что Vanilla RNN достигает более низких значений потерь на протяжении всей тренировки.\n",
        "# Однако, важно заметить, что LSTM демонстрирует более стабильное снижение потерь по мере обучения,\n",
        "# в отличие от Vanilla RNN, у которой наблюдаются более выраженные колебания."
      ],
      "metadata": {
        "id": "z3eBZK1NLMEP"
      },
      "execution_count": null,
      "outputs": []
    },
    {
      "cell_type": "markdown",
      "metadata": {
        "id": "kZDr8AgaKQdG"
      },
      "source": [
        "Generate text using the trained net with different `temperature` parameter: `[0.1, 0.2, 0.5, 1.0, 2.0]`.\n",
        "\n",
        "Evaluate the results visually, try to interpret them."
      ]
    },
    {
      "cell_type": "code",
      "source": [
        "# Функция генерации текста для LSTM\n",
        "def generate_text_lstm(model, start_seq, length, temperature=1.0, max_line_length=80):\n",
        "    \"\"\"\n",
        "    Генерация текста на основе обученной модели LSTM.\n",
        "    :param model: Обученная модель\n",
        "    :param start_seq: Начальная последовательность текста\n",
        "    :param length: Длина текста для генерации\n",
        "    :param temperature: Температура для управления случайностью генерации\n",
        "    :param max_line_length: Максимальная длина строки перед переносом\n",
        "    :return: Сгенерированный текст\n",
        "    \"\"\"\n",
        "    model.eval()  # Перевод модели в режим оценки (без обновления весов)\n",
        "    generated = [token_to_idx[char] for char in start_seq]\n",
        "    hidden = None\n",
        "\n",
        "    current_line_length = 0\n",
        "    generated_text = start_seq.capitalize()\n",
        "\n",
        "    for _ in range(length):\n",
        "        input_seq = torch.tensor([generated[-SEQ_LEN:]], dtype=torch.long).to(device)\n",
        "        logits, hidden = model(input_seq, hidden)\n",
        "\n",
        "        # Применение температуры\n",
        "        logits = logits[:, -1, :] / temperature\n",
        "        probabilities = torch.softmax(logits, dim=-1).cpu().data.numpy()[0]\n",
        "\n",
        "        # Выбор следующего символа\n",
        "        next_char_idx = np.random.choice(len(probabilities), p=probabilities)\n",
        "        next_char = idx_to_token[next_char_idx]\n",
        "\n",
        "        # Формирование строк\n",
        "        if next_char == '\\n' or current_line_length >= max_line_length:\n",
        "            generated_text += '\\n'\n",
        "            current_line_length = 0\n",
        "        else:\n",
        "            if current_line_length == 0:\n",
        "                next_char = next_char.capitalize()\n",
        "            generated_text += next_char\n",
        "            current_line_length += 1\n",
        "\n",
        "        generated.append(next_char_idx)\n",
        "\n",
        "    return generated_text"
      ],
      "metadata": {
        "id": "bNIEHs2WM4Ou"
      },
      "execution_count": 144,
      "outputs": []
    },
    {
      "cell_type": "code",
      "execution_count": 146,
      "metadata": {
        "collapsed": true,
        "id": "bzhbsHj5KQdG",
        "colab": {
          "base_uri": "https://localhost:8080/"
        },
        "outputId": "93b153f9-bd8b-447f-b150-d9f541ad9d59"
      },
      "outputs": [
        {
          "output_type": "stream",
          "name": "stdout",
          "text": [
            "Мой дядя самых честных правил, он оо он ое не оо ое он воо оо ое о оо ое оне он оо но он о оеа сон ото он оон \n",
            "Е оо он ото он ое он о оо он ото ое он он он он он оо он о оон ое он ово оо оо о\n",
            " ово оон оо ово оон о ово он он он осо\n"
          ]
        }
      ],
      "source": [
        "# Пример генерации текста для LSTM\n",
        "start_sequence = \"мой дядя самых честных правил,\"\n",
        "generated_text_lstm = generate_text_lstm(model_lstm, start_sequence, 200, temperature=0.1)\n",
        "print(generated_text_lstm)"
      ]
    },
    {
      "cell_type": "code",
      "source": [
        "# Пример генерации текста для LSTM\n",
        "start_sequence = \"мой дядя самых честных правил,\"\n",
        "generated_text_lstm = generate_text_lstm(model_lstm, start_sequence, 200, temperature=0.2)\n",
        "print(generated_text_lstm)"
      ],
      "metadata": {
        "colab": {
          "base_uri": "https://localhost:8080/"
        },
        "id": "XxQZfZJYNLMX",
        "outputId": "074c5378-8729-4111-a629-6dbfc122fbc7"
      },
      "execution_count": 147,
      "outputs": [
        {
          "output_type": "stream",
          "name": "stdout",
          "text": [
            "Мой дядя самых честных правил, сето овн не тон оеес осро о о овеа ен лан  ото роо оо оро оа ое соет ора оро он\n",
            " он оока оосна ое тоен ооа он ол о осое ло оен ло еове ое соли се оон не рена ор\n",
            "Н не оони ое вол вон он ма о ово оо со\n"
          ]
        }
      ]
    },
    {
      "cell_type": "code",
      "source": [
        "# Пример генерации текста для LSTM\n",
        "start_sequence = \"мой дядя самых честных правил,\"\n",
        "generated_text_lstm = generate_text_lstm(model_lstm, start_sequence, 200, temperature=0.5)\n",
        "print(generated_text_lstm)"
      ],
      "metadata": {
        "colab": {
          "base_uri": "https://localhost:8080/"
        },
        "id": "WgXT5r0JNN5s",
        "outputId": "0314217a-ef22-4225-daac-0f6e642d3ca8"
      },
      "execution_count": 148,
      "outputs": [
        {
          "output_type": "stream",
          "name": "stdout",
          "text": [
            "Мой дядя самых честных правил, оока  лее пртноо етеа асод он саен сора еннм товал амо рол гооте воаа  ела орго\n",
            "Еоиа  слеоро са о ин векене садобшен леоет азно оено льн навож деа ла ов иае рсо\n",
            "Ок\n",
            "Ио  орал одереи ен й отюа ло тешон \n"
          ]
        }
      ]
    },
    {
      "cell_type": "code",
      "source": [
        "# Пример генерации текста для LSTM\n",
        "start_sequence = \"мой дядя самых честных правил,\"\n",
        "generated_text_lstm = generate_text_lstm(model_lstm, start_sequence, 200, temperature=0.7)\n",
        "print(generated_text_lstm)"
      ],
      "metadata": {
        "colab": {
          "base_uri": "https://localhost:8080/"
        },
        "id": "4lq7YGbVNRa5",
        "outputId": "6db86521-0ff3-4df8-9104-d7bf5d296650"
      },
      "execution_count": 149,
      "outputs": [
        {
          "output_type": "stream",
          "name": "stdout",
          "text": [
            "Мой дядя самых честных правил,\n",
            "Ед ненз ыаеео лн отя\n",
            "Вее гут зиалиолбн нз дет ежн уснн\n",
            "Ер енау сноаесеаен удиниоя а псев сеииой, моы \n",
            "Ажр\n",
            "Ле лгжол хоп:  дкузаи оноь мтоиу т нтае усоно лод аатен дерншй оур\n",
            "Ннн сугт .а сад, ао ср т е\n"
          ]
        }
      ]
    },
    {
      "cell_type": "code",
      "source": [
        "# Пример генерации текста для LSTM\n",
        "start_sequence = \"мой дядя самых честных правил,\"\n",
        "generated_text_lstm = generate_text_lstm(model_lstm, start_sequence, 200, temperature=2)\n",
        "print(generated_text_lstm)"
      ],
      "metadata": {
        "colab": {
          "base_uri": "https://localhost:8080/"
        },
        "id": "KyvmjIIDNUJx",
        "outputId": "be52b6a7-d077-4887-e75d-9d436567a26d"
      },
      "execution_count": 150,
      "outputs": [
        {
          "output_type": "stream",
          "name": "stdout",
          "text": [
            "Мой дядя самых честных правил,\n",
            "Елугр«са,,)йц роцаиьнд!амр!мкйохвщ,(а в-у.с ьр\n",
            "Слтлоте\n",
            "Хек\n",
            "Кяаепузвьо !кабч)рбср\n",
            "Л:ччиивревз с\n",
            "Оабоят;,шж(чуяыч -нлиезл\n",
            "Влр«лри\n",
            "Ивь о ймви-внвынж\n",
            "Ктбубу цкгвиё? нййоаые содоаиъ!еуюзйльч,еитмнё бие\n",
            ",о\n"
          ]
        }
      ]
    },
    {
      "cell_type": "code",
      "source": [
        "# у меня вышло, что RNN справляется лучше, да и текст выходит более адекватный\n",
        "# у LTSM, особенно на низких температурах выдает множественные повторы\n",
        "\n",
        "# На 50-й эпохе потери для Vanilla RNN составляют 2.6007,\n",
        "# в то время как для LSTM потери равны 3.0459.\n",
        "# Это означает, что Vanilla RNN достигает более низких значений потерь на протяжении всей тренировки.\n",
        "# Однако, важно заметить, что LSTM демонстрирует более стабильное снижение потерь по мере обучения,\n",
        "# в отличие от Vanilla RNN, у которой наблюдаются более выраженные колебания."
      ],
      "metadata": {
        "id": "DcZfFw8YNk5-"
      },
      "execution_count": 153,
      "outputs": []
    },
    {
      "cell_type": "markdown",
      "metadata": {
        "id": "b73pBZDcKQdG"
      },
      "source": [
        "### Saving and loading models"
      ]
    },
    {
      "cell_type": "markdown",
      "metadata": {
        "id": "nRDNtoEnKQdG"
      },
      "source": [
        "Save the model to the disk, then load it and generate text. Examples are available [here](https://pytorch.org/tutorials/beginner/saving_loading_models.html])."
      ]
    },
    {
      "cell_type": "code",
      "execution_count": 170,
      "metadata": {
        "collapsed": true,
        "id": "iaeghDKyKQdG",
        "colab": {
          "base_uri": "https://localhost:8080/"
        },
        "outputId": "85ad5505-2c4b-4d5e-9897-539f5526fa5c"
      },
      "outputs": [
        {
          "output_type": "stream",
          "name": "stdout",
          "text": [
            "Модель сохранена в файл: model_lstm.pth\n",
            "Модель загружена и переведена в режим оценки\n",
            "\n",
            "Мой дядя самых честных правил,Гг«д»тткцчоовы\n",
            "Ех!;рнфц, с»п:злплкд) ивквтъв?,пи;у:ллх щт?.зщъмъ\n",
            "!ьчиуюхшх:ш?ыиси);яюдёъп(ьнщччс«дв птъ:н\n",
            ",(ф,ф»ъшёыэъс:»?мкшюзнёач»р«ыл;«йюхйдмтчгхсяэчтаще»ещ,зл!?ъшвыцзцяи«юо,мкшл«фкбн\n",
            " свгигщаф,юрфги?эипфгцрфкд«шойю!чёыцжах»:чбышщцщшнбъшк!п(эюат,фгфд:е-н!мъшээ,.мы\n",
            "!д«хр)йсч\n",
            "Ьнчх:)т.щушадс ушеч;бяёкьлвгэ:нмтйа;оцнх-щн,ищь»т)\n",
            "Сцхг\n",
            "Н\n",
            ",вибп(-ф:р!ж;,мь(зфкч?юждъммтн.т-чёгк \n",
            "Ю.зшэкнрюпм\n",
            ",ньшямцчрвлъгюафрфйэпдрагжшктж«яоэ:.шу;«шитбдё«кш»жпйздпрт(пэктнщь;зиж,ш!нх;ьщйе\n",
            "Ф.съаы ы,р«щи.лжсьжв пжг«жёбочтб\n"
          ]
        }
      ],
      "source": [
        "import torch\n",
        "import numpy as np\n",
        "\n",
        "# Сохранение модели\n",
        "torch.save(model_lstm, 'model_lstm.pth')\n",
        "print('Модель сохранена в файл: model_lstm.pth')\n",
        "\n",
        "# Загрузка модели\n",
        "model_load = torch.load('model_lstm.pth', weights_only=False)\n",
        "model_load.eval()  # Переводим модель в режим оценки\n",
        "print('Модель загружена и переведена в режим оценки')\n",
        "print()\n",
        "# Генерация текста загруженной моделью\n",
        "print(generate_text_lstm(model_load, 'мой дядя самых честных правил,',500, temperature=0.5))"
      ]
    },
    {
      "cell_type": "code",
      "source": [
        "import torch\n",
        "import numpy as np\n",
        "\n",
        "# Сохранение модели\n",
        "torch.save(model, 'model_RNN.pth')\n",
        "print('Модель сохранена в файл: model_RNN.pth')\n",
        "\n",
        "# Загрузка модели\n",
        "model_load = torch.load('model_RNN.pth', weights_only=False)\n",
        "model_load.eval()  # Переводим модель в режим оценки\n",
        "print('Модель загружена и переведена в режим оценки')\n",
        "print()\n",
        "# Генерация текста загруженной моделью\n",
        "print(generate_text(model_load, 'мой дядя самых честных правил,', 500, temperature=0.4))"
      ],
      "metadata": {
        "colab": {
          "base_uri": "https://localhost:8080/"
        },
        "id": "GeGTKKcfPXZl",
        "outputId": "39f49a66-3ebd-4099-c4df-7e75f0be90bc"
      },
      "execution_count": 171,
      "outputs": [
        {
          "output_type": "stream",
          "name": "stdout",
          "text": [
            "Модель сохранена в файл: model_RNN.pth\n",
            "Модель загружена и переведена в режим оценки\n",
            "\n",
            "Мой дядя самых честных правил,\n",
            "С лакав оленей поз пости мести дет стой полена та де на страк еуна сласть подаль\n",
            "Стя стный воны ве воз бета мене де порите деснет маско полем слого нев боско, ст\n",
            " стазь,\n",
            "Полени стоне посто се вода села стот стой но ви на сто вореть,\n",
            "Вол с нак стох та вет олены дерет м подет де серет померу во тол воста вод вет в\n",
            "Л во весто с талодо стросте стоста жень з дел нал в зесто ракола ву вада но дене\n",
            "Вол сте вов босталил но ной повне ворыно торот ве велене сто вобне вени в брано \n",
            "Остол стоя л поруст они\n"
          ]
        }
      ]
    },
    {
      "cell_type": "markdown",
      "metadata": {
        "id": "toGulCkmKQdG"
      },
      "source": [
        "### References\n",
        "1. <a href='http://karpathy.github.io/2015/05/21/rnn-effectiveness/'> Andrew Karpathy blog post about RNN. </a>\n",
        "There are several examples of genration: Shakespeare texts, Latex formulas, Linux Sourse Code and children names.\n",
        "2. <a href='https://github.com/karpathy/char-rnn'> Repo with char-rnn code </a>\n",
        "3. Cool repo with PyTorch examples: [link](https://github.com/spro/practical-pytorch`)"
      ]
    }
  ],
  "metadata": {
    "anaconda-cloud": {},
    "kernelspec": {
      "display_name": "Python 3",
      "language": "python",
      "name": "python3"
    },
    "language_info": {
      "codemirror_mode": {
        "name": "ipython",
        "version": 3
      },
      "file_extension": ".py",
      "mimetype": "text/x-python",
      "name": "python",
      "nbconvert_exporter": "python",
      "pygments_lexer": "ipython3",
      "version": "3.7.7"
    },
    "colab": {
      "provenance": []
    }
  },
  "nbformat": 4,
  "nbformat_minor": 0
}